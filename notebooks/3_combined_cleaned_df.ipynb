{
 "cells": [
  {
   "cell_type": "markdown",
   "metadata": {},
   "source": [
    "Libraries and Data Imports"
   ]
  },
  {
   "cell_type": "code",
   "execution_count": 2,
   "metadata": {},
   "outputs": [],
   "source": [
    "import pandas as pd\n",
    "\n",
    "# ... existing imports and data loading ...\n",
    "df_hot100 = pd.read_csv('../data/1_hot100_cleaned.csv')\n",
    "df_2m = pd.read_csv('../data/2_million_songs_cleaned.csv')"
   ]
  },
  {
   "cell_type": "markdown",
   "metadata": {},
   "source": [
    "Merging Dataframes, removing duplicates, adding isHot column"
   ]
  },
  {
   "cell_type": "code",
   "execution_count": 8,
   "metadata": {},
   "outputs": [],
   "source": [
    "df_combined = pd.concat([df_hot100, df_2m], ignore_index=True)\n",
    "\n",
    "# Add new column indicating if song is from Hot 100\n",
    "df_combined['isHot'] = 'No'\n",
    "df_combined.loc[:len(df_hot100)-1, 'isHot'] = 'Yes'\n",
    "\n",
    "# Remove duplicates, keeping Hot 100 versions when available\n",
    "df_combined = df_combined.sort_values('isHot', ascending=False).drop_duplicates(subset='title', keep='first')\n"
   ]
  },
  {
   "cell_type": "markdown",
   "metadata": {},
   "source": [
    "Export to CSV"
   ]
  },
  {
   "cell_type": "code",
   "execution_count": 10,
   "metadata": {},
   "outputs": [],
   "source": [
    "df_combined.to_csv('../data/3_combined_cleaned_df.csv', index=False)\n"
   ]
  },
  {
   "cell_type": "code",
   "execution_count": null,
   "metadata": {},
   "outputs": [],
   "source": [
    "**Make sure notebooks have:**\n",
    "\n",
    "* A quick description at the top of what is going to be done\n",
    "* Headers with numbers on every section\n",
    "* Describe any decision made in a sentence\n",
    "* Make sure to run the cells and save the notebook with the output. outputs should be readable, not to long and make sure no errors are shown."
   ]
  }
 ],
 "metadata": {
  "kernelspec": {
   "display_name": "base",
   "language": "python",
   "name": "python3"
  },
  "language_info": {
   "codemirror_mode": {
    "name": "ipython",
    "version": 3
   },
   "file_extension": ".py",
   "mimetype": "text/x-python",
   "name": "python",
   "nbconvert_exporter": "python",
   "pygments_lexer": "ipython3",
   "version": "3.12.4"
  }
 },
 "nbformat": 4,
 "nbformat_minor": 2
}
