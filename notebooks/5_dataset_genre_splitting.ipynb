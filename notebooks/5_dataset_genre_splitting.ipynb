{
 "cells": [
  {
   "cell_type": "code",
   "execution_count": 22,
   "metadata": {},
   "outputs": [],
   "source": [
    "import pandas as pd\n",
    "\n",
    "df = pd.read_csv('../data/5_full_dataset.csv')\n",
    "hot100_df = pd.read_csv('../data/1_hot100_cleaned.csv')\n"
   ]
  },
  {
   "cell_type": "code",
   "execution_count": 23,
   "metadata": {},
   "outputs": [],
   "source": [
    "# Create isHot column\n",
    "df['isHot'] = df['title'].isin(hot100_df['title']).astype(int)"
   ]
  },
  {
   "cell_type": "code",
   "execution_count": 26,
   "metadata": {},
   "outputs": [],
   "source": [
    "# drop Bru's genre columns\n",
    "df = df.drop(columns=['rock', 'pop', 'hip-hop', 'country', 'latin', 'indie', 'folk', 'soul', 'punk', 'metal', 'jazz', 'classical', 'reggae', 'blues'])"
   ]
  },
  {
   "cell_type": "code",
   "execution_count": 28,
   "metadata": {},
   "outputs": [],
   "source": [
    "df=df.drop(columns=['rap', 'dance'])"
   ]
  },
  {
   "cell_type": "code",
   "execution_count": null,
   "metadata": {},
   "outputs": [],
   "source": [
    "display(df.head())"
   ]
  },
  {
   "cell_type": "code",
   "execution_count": null,
   "metadata": {},
   "outputs": [],
   "source": [
    "import ast\n",
    "\n",
    "# Combine all genres into one list\n",
    "all_genres = []\n",
    "for genre_list in df['genres'].dropna():  # skip NaN values\n",
    "    genres = ast.literal_eval(genre_list)  # convert string to list\n",
    "    all_genres.extend(genres)\n",
    "\n",
    "# Create a list of unique genres\n",
    "unique_genres = list(set(all_genres))\n",
    "\n",
    "print(f\"Total number of unique genres: {len(unique_genres)}\")\n",
    "print(\"\\nFirst 10 genres as example:\")\n",
    "print(unique_genres[:10])"
   ]
  },
  {
   "cell_type": "code",
   "execution_count": null,
   "metadata": {},
   "outputs": [],
   "source": [
    "# 1. Get all unique genres (no threshold filtering)\n",
    "all_genres = []\n",
    "for genre_list in df['genres'].dropna():\n",
    "    genres = genre_list.split(', ')\n",
    "    genres = [genre.strip() for genre in genres]\n",
    "    all_genres.extend(genres)\n",
    "\n",
    "unique_genres = sorted(list(set(all_genres)))  # Get all unique genres and sort them\n",
    "\n",
    "# 2. Create one-hot encoding for all genres\n",
    "def encode_all_genres(genre_string):\n",
    "    if pd.isna(genre_string):\n",
    "        return [0] * len(unique_genres)\n",
    "    \n",
    "    genre_list = genre_string.split(', ')\n",
    "    return [1 if genre in genre_list else 0 for genre in unique_genres]\n",
    "\n",
    "# Create encoded columns\n",
    "genre_encoded = pd.DataFrame(\n",
    "    df['genres'].apply(encode_all_genres).tolist(),\n",
    "    columns=unique_genres\n",
    ")\n",
    "\n",
    "# Add encoded columns to original dataframe\n",
    "df_spotify_songs_encoded_full = pd.concat([df, genre_encoded], axis=1)\n",
    "\n",
    "# Verify the number of columns\n",
    "print(f\"Total number of columns: {len(df_spotify_songs_encoded_full.columns)}\")\n",
    "print(f\"Number of genre columns: {len(unique_genres)}\")"
   ]
  },
  {
   "cell_type": "code",
   "execution_count": 35,
   "metadata": {},
   "outputs": [],
   "source": [
    "df_spotify_songs_encoded_full = df_spotify_songs_encoded_full.dropna(subset=['genres'])  # only drops rows where 'genres' is null"
   ]
  },
  {
   "cell_type": "code",
   "execution_count": null,
   "metadata": {},
   "outputs": [],
   "source": [
    "df_spotify_songs_encoded_full.isnull().sum()"
   ]
  },
  {
   "cell_type": "code",
   "execution_count": null,
   "metadata": {},
   "outputs": [],
   "source": [
    "# drop non-numerical columns\n",
    "drop_columns = ['title', 'artist', 'album', 'popularity', 'is_explicit', 'isHot', 'album_cover', 'duration_seconds', 'genres']\n",
    "df_numerical = df_spotify_songs_encoded_full.drop(columns= drop_columns).copy()\n",
    "\n",
    "# Display the first few rows of the new dataframe\n",
    "print(\"Shape of numerical dataframe:\", df_numerical.shape)\n",
    "df_numerical.head()"
   ]
  },
  {
   "cell_type": "code",
   "execution_count": null,
   "metadata": {},
   "outputs": [],
   "source": [
    "# Clean up column names by removing quotes and brackets\n",
    "df_numerical.columns = df_numerical.columns.str.replace('\"', '').str.replace(\"'\", '').str.replace('[', '').str.replace(']', '')\n",
    "\n",
    "# Verify the cleaned column names\n",
    "print(\"Cleaned column names:\")\n",
    "print(df_numerical.columns.tolist()[:20])  # Show first 10 columns as example"
   ]
  },
  {
   "cell_type": "code",
   "execution_count": null,
   "metadata": {},
   "outputs": [],
   "source": [
    "# Save the numerical dataset to CSV\n",
    "df_numerical.to_csv('../data/5_spotify_numerical.csv', index=False)\n",
    "print(\"Dataset saved successfully!\")"
   ]
  },
  {
   "cell_type": "markdown",
   "metadata": {},
   "source": [
    "Dropping genres with less than 30 tracks"
   ]
  },
  {
   "cell_type": "code",
   "execution_count": null,
   "metadata": {},
   "outputs": [],
   "source": [
    "# Read the dataset\n",
    "df_spotify_numerical = pd.read_csv('../data/5_spotify_numerical.csv')\n",
    "\n",
    "# Sum up each genre column (since they're one-hot encoded, sum equals count)\n",
    "genre_counts = df_spotify_numerical.iloc[:, 9:].sum().sort_values(ascending=False)  # Skip first 9 non-genre columns\n",
    "\n",
    "# Display the counts\n",
    "print(f\"Number of tracks per genre (total tracks: {len(df_spotify_numerical):,}):\")\n",
    "print(\"=\" * 50)\n",
    "for genre, count in genre_counts.items():\n",
    "    if count > 0:  # Only show genres that have at least one track\n",
    "        print(f\"{genre}: {int(count):,} tracks\")"
   ]
  },
  {
   "cell_type": "code",
   "execution_count": null,
   "metadata": {},
   "outputs": [],
   "source": [
    "import re\n",
    "# Combine versioned genre columns\n",
    "def combine_versioned_columns(df):\n",
    "    # Get all column names\n",
    "    columns = df.columns.tolist()\n",
    "    \n",
    "    # Dictionary to store base genres and their versioned columns\n",
    "    genre_versions = {}\n",
    "    \n",
    "    # Regular expression to match versioned columns (e.g., 'rock.1', 'blues.2')\n",
    "    pattern = r'(.+?)\\.?\\d*$'\n",
    "    \n",
    "    # Group columns by their base genre name\n",
    "    for col in columns:\n",
    "        match = re.match(pattern, col)\n",
    "        if match:\n",
    "            base_genre = match.group(1)\n",
    "            if base_genre not in genre_versions:\n",
    "                genre_versions[base_genre] = []\n",
    "            genre_versions[base_genre].append(col)\n",
    "    \n",
    "    # Create new columns combining the versions\n",
    "    for base_genre, versioned_cols in genre_versions.items():\n",
    "        if len(versioned_cols) > 1:  # Only process if there are multiple versions\n",
    "            # Create new column with the maximum value across all versions\n",
    "            df[base_genre] = df[versioned_cols].max(axis=1)\n",
    "            # Drop the old versioned columns\n",
    "            df = df.drop(columns=versioned_cols)\n",
    "    \n",
    "    return df\n",
    "\n",
    "# Apply the function to combine versioned columns\n",
    "df_spotify_numerical = combine_versioned_columns(df_spotify_numerical)\n",
    "\n",
    "# Display the shape of the dataframe after combining columns\n",
    "print(\"Shape of numerical dataframe after combining versions:\", df_spotify_numerical.shape)\n",
    "df_spotify_numerical.head()\n",
    "\n",
    "#dpdate the csv file\n",
    "df_spotify_numerical.to_csv('../data/5_spotify_numerical_combined.csv', index=False)\n"
   ]
  },
  {
   "cell_type": "code",
   "execution_count": null,
   "metadata": {},
   "outputs": [],
   "source": [
    "# Read the dataset\n",
    "df_spotify_numerical = pd.read_csv('../data/5_spotify_numerical_combined.csv')\n",
    "\n",
    "# Sum up each genre column and create a DataFrame\n",
    "genre_counts = df_spotify_numerical.iloc[:, 9:].sum().sort_values(ascending=False)\n",
    "genre_df = pd.DataFrame({\n",
    "    'genre': genre_counts.index,\n",
    "    'track_count': genre_counts.values\n",
    "})\n",
    "\n",
    "# Add percentage column\n",
    "total_tracks = len(df_spotify_numerical)\n",
    "genre_df['percentage'] = (genre_df['track_count'] / total_tracks * 100).round(2)\n",
    "\n",
    "# Filter out genres with zero tracks\n",
    "genre_df = genre_df[genre_df['track_count'] > 0]\n",
    "\n",
    "# Save to CSV\n",
    "genre_df.to_csv('../data/genre_distribution.csv', index=False)\n",
    "\n",
    "# Display first few rows\n",
    "print(f\"Total number of genres: {len(genre_df)}\")\n",
    "print(\"\\nTop 10 genres by track count:\")\n",
    "print(genre_df.head(100))"
   ]
  },
  {
   "cell_type": "code",
   "execution_count": null,
   "metadata": {},
   "outputs": [],
   "source": [
    "# Get genre columns (columns after the first 9 non-genre columns)\n",
    "genre_columns = df_spotify_numerical.columns[9:]\n",
    "\n",
    "# Calculate genre counts\n",
    "genre_counts = df_spotify_numerical[genre_columns].sum()\n",
    "\n",
    "# Get genres with at least 30 tracks\n",
    "popular_genres = genre_counts[genre_counts >= 15].index\n",
    "\n",
    "# Keep only non-genre columns and popular genre columns\n",
    "columns_to_keep = list(df_spotify_numerical.columns[:9]) + list(popular_genres)\n",
    "df_cleaned = df_spotify_numerical[columns_to_keep]\n",
    "\n",
    "# Save the cleaned dataset\n",
    "df_cleaned.to_csv('../data/5_spotify_numerical_cleaned.csv', index=False)\n",
    "\n",
    "# Print statistics\n",
    "print(f\"Original number of genres: {len(genre_columns)}\")\n",
    "print(f\"Number of genres with ≥30 tracks: {len(popular_genres)}\")\n",
    "print(f\"Number of genres removed: {len(genre_columns) - len(popular_genres)}\")\n",
    "print(f\"\\nShape of new dataset: {df_cleaned.shape}\")\n",
    "\n",
    "# Display distribution of remaining genres\n",
    "genre_dist = df_cleaned[popular_genres].sum().sort_values(ascending=False)\n",
    "print(\"\\nTop 10 genres in cleaned dataset:\")\n",
    "display(genre_dist)\n"
   ]
  },
  {
   "cell_type": "code",
   "execution_count": null,
   "metadata": {},
   "outputs": [],
   "source": []
  },
  {
   "cell_type": "code",
   "execution_count": null,
   "metadata": {},
   "outputs": [],
   "source": []
  }
 ],
 "metadata": {
  "kernelspec": {
   "display_name": "base",
   "language": "python",
   "name": "python3"
  },
  "language_info": {
   "codemirror_mode": {
    "name": "ipython",
    "version": 3
   },
   "file_extension": ".py",
   "mimetype": "text/x-python",
   "name": "python",
   "nbconvert_exporter": "python",
   "pygments_lexer": "ipython3",
   "version": "3.12.4"
  }
 },
 "nbformat": 4,
 "nbformat_minor": 2
}
