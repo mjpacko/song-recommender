{
 "cells": [
  {
   "cell_type": "markdown",
   "metadata": {},
   "source": [
    "Import Libraries & Dataset"
   ]
  },
  {
   "cell_type": "code",
   "execution_count": null,
   "metadata": {},
   "outputs": [],
   "source": [
    "import pandas as pd\n",
    "import codecs\n",
    "\n",
    "\n",
    "# Read the CSV file\n",
    "df = pd.read_csv('../data/2_million_song_subset_raw.csv', encoding='utf-8', sep=';')"
   ]
  },
  {
   "cell_type": "markdown",
   "metadata": {},
   "source": [
    "Cleaning Process"
   ]
  },
  {
   "cell_type": "code",
   "execution_count": null,
   "metadata": {},
   "outputs": [],
   "source": [
    "# Function to clean byte strings and encoded characters\n",
    "def clean_text(text):\n",
    "    if isinstance(text, str):\n",
    "        # Remove the 'b' prefix and quotes if present\n",
    "        if text.startswith(\"b'\") or text.startswith('b\"'):\n",
    "            text = text[2:-1]\n",
    "        # Convert escaped sequences to proper characters\n",
    "        try:\n",
    "            return text.encode('latin-1').decode('unicode_escape').encode('latin-1').decode('utf-8')\n",
    "        except:\n",
    "            return text\n",
    "    return text\n",
    "\n",
    "# Apply the cleaning function to all object (string) columns\n",
    "for column in df.select_dtypes(include=['object']):\n",
    "    df[column] = df[column].apply(clean_text)\n",
    "\n",
    "# Display a sample to verify the cleaning worked\n",
    "display(df.head())"
   ]
  },
  {
   "cell_type": "markdown",
   "metadata": {},
   "source": [
    "Export to CSV"
   ]
  },
  {
   "cell_type": "code",
   "execution_count": 33,
   "metadata": {},
   "outputs": [],
   "source": [
    "df.to_csv('../data/2_million_songs_cleaned.csv', index=False)"
   ]
  }
 ],
 "metadata": {
  "kernelspec": {
   "display_name": "base",
   "language": "python",
   "name": "python3"
  },
  "language_info": {
   "codemirror_mode": {
    "name": "ipython",
    "version": 3
   },
   "file_extension": ".py",
   "mimetype": "text/x-python",
   "name": "python",
   "nbconvert_exporter": "python",
   "pygments_lexer": "ipython3",
   "version": "3.12.4"
  }
 },
 "nbformat": 4,
 "nbformat_minor": 2
}
