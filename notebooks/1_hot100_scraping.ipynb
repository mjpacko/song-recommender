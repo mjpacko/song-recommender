{
 "cells": [
  {
   "cell_type": "markdown",
   "metadata": {},
   "source": [
    "Import Libraries"
   ]
  },
  {
   "cell_type": "code",
   "execution_count": 3,
   "metadata": {},
   "outputs": [],
   "source": [
    "import requests\n",
    "from bs4 import BeautifulSoup\n",
    "import pandas as pd"
   ]
  },
  {
   "cell_type": "markdown",
   "metadata": {},
   "source": [
    "Define the URL and get the response"
   ]
  },
  {
   "cell_type": "code",
   "execution_count": 4,
   "metadata": {},
   "outputs": [],
   "source": [
    "url = \"https://www.billboard.com/charts/hot-100/\"\n",
    "response = requests.get(url)\n",
    "soup = BeautifulSoup(response.content, \"html.parser\")\n"
   ]
  },
  {
   "cell_type": "markdown",
   "metadata": {},
   "source": [
    "Scrape data for position, track, artist and image url"
   ]
  },
  {
   "cell_type": "code",
   "execution_count": 5,
   "metadata": {},
   "outputs": [],
   "source": [
    "song_titles = []\n",
    "artists = []\n",
    "positions = []\n",
    "\n",
    "chart_items = soup.select('ul.o-chart-results-list-row')\n",
    "\n",
    "for item in chart_items:\n",
    "    title = item.select_one('h3#title-of-a-story').text.strip() # extract title\n",
    "    artist = item.select_one('span.c-label.a-no-trucate').text.strip() # extract artist\n",
    "    \n",
    "    song_titles.append(title)\n",
    "    artists.append(artist)\n",
    "\n",
    "hot100_df = pd.DataFrame({\n",
    "    'title': song_titles,\n",
    "    'artist': artists\n",
    "})"
   ]
  },
  {
   "cell_type": "code",
   "execution_count": 7,
   "metadata": {},
   "outputs": [
    {
     "data": {
      "text/html": [
       "<div>\n",
       "<style scoped>\n",
       "    .dataframe tbody tr th:only-of-type {\n",
       "        vertical-align: middle;\n",
       "    }\n",
       "\n",
       "    .dataframe tbody tr th {\n",
       "        vertical-align: top;\n",
       "    }\n",
       "\n",
       "    .dataframe thead th {\n",
       "        text-align: right;\n",
       "    }\n",
       "</style>\n",
       "<table border=\"1\" class=\"dataframe\">\n",
       "  <thead>\n",
       "    <tr style=\"text-align: right;\">\n",
       "      <th></th>\n",
       "      <th>title</th>\n",
       "      <th>artist</th>\n",
       "    </tr>\n",
       "  </thead>\n",
       "  <tbody>\n",
       "    <tr>\n",
       "      <th>0</th>\n",
       "      <td>Die With A Smile</td>\n",
       "      <td>Lady Gaga &amp; Bruno Mars</td>\n",
       "    </tr>\n",
       "    <tr>\n",
       "      <th>1</th>\n",
       "      <td>A Bar Song (Tipsy)</td>\n",
       "      <td>Shaboozey</td>\n",
       "    </tr>\n",
       "    <tr>\n",
       "      <th>2</th>\n",
       "      <td>Birds Of A Feather</td>\n",
       "      <td>Billie Eilish</td>\n",
       "    </tr>\n",
       "    <tr>\n",
       "      <th>3</th>\n",
       "      <td>Lose Control</td>\n",
       "      <td>Teddy Swims</td>\n",
       "    </tr>\n",
       "    <tr>\n",
       "      <th>4</th>\n",
       "      <td>APT.</td>\n",
       "      <td>ROSE &amp; Bruno Mars</td>\n",
       "    </tr>\n",
       "    <tr>\n",
       "      <th>...</th>\n",
       "      <td>...</td>\n",
       "      <td>...</td>\n",
       "    </tr>\n",
       "    <tr>\n",
       "      <th>95</th>\n",
       "      <td>Holy Smokes</td>\n",
       "      <td>Bailey Zimmerman</td>\n",
       "    </tr>\n",
       "    <tr>\n",
       "      <th>96</th>\n",
       "      <td>High Road</td>\n",
       "      <td>Zach Bryan</td>\n",
       "    </tr>\n",
       "    <tr>\n",
       "      <th>97</th>\n",
       "      <td>On One Tonight</td>\n",
       "      <td>Gunna</td>\n",
       "    </tr>\n",
       "    <tr>\n",
       "      <th>98</th>\n",
       "      <td>St. Chroma</td>\n",
       "      <td>Tyler, The Creator Featuring Daniel Caesar</td>\n",
       "    </tr>\n",
       "    <tr>\n",
       "      <th>99</th>\n",
       "      <td>Cowboy Songs</td>\n",
       "      <td>George Birge</td>\n",
       "    </tr>\n",
       "  </tbody>\n",
       "</table>\n",
       "<p>100 rows × 2 columns</p>\n",
       "</div>"
      ],
      "text/plain": [
       "                 title                                      artist\n",
       "0     Die With A Smile                      Lady Gaga & Bruno Mars\n",
       "1   A Bar Song (Tipsy)                                   Shaboozey\n",
       "2   Birds Of A Feather                               Billie Eilish\n",
       "3         Lose Control                                 Teddy Swims\n",
       "4                 APT.                           ROSE & Bruno Mars\n",
       "..                 ...                                         ...\n",
       "95         Holy Smokes                            Bailey Zimmerman\n",
       "96           High Road                                  Zach Bryan\n",
       "97      On One Tonight                                       Gunna\n",
       "98          St. Chroma  Tyler, The Creator Featuring Daniel Caesar\n",
       "99        Cowboy Songs                                George Birge\n",
       "\n",
       "[100 rows x 2 columns]"
      ]
     },
     "metadata": {},
     "output_type": "display_data"
    }
   ],
   "source": [
    "display(hot100_df)"
   ]
  },
  {
   "cell_type": "markdown",
   "metadata": {},
   "source": [
    "Save to csv in the data folder"
   ]
  },
  {
   "cell_type": "code",
   "execution_count": 11,
   "metadata": {},
   "outputs": [],
   "source": [
    "hot100_df.to_csv('../data/1_hot100_cleaned.csv', index=False)\n"
   ]
  },
  {
   "cell_type": "code",
   "execution_count": null,
   "metadata": {},
   "outputs": [],
   "source": [
    "**Make sure notebooks have:**\n",
    "\n",
    "* A quick description at the top of what is going to be done\n",
    "* Headers with numbers on every section\n",
    "* Describe any decision made in a sentence\n",
    "* Make sure to run the cells and save the notebook with the output. outputs should be readable, not to long and make sure no errors are shown."
   ]
  }
 ],
 "metadata": {
  "kernelspec": {
   "display_name": "base",
   "language": "python",
   "name": "python3"
  },
  "language_info": {
   "codemirror_mode": {
    "name": "ipython",
    "version": 3
   },
   "file_extension": ".py",
   "mimetype": "text/x-python",
   "name": "python",
   "nbconvert_exporter": "python",
   "pygments_lexer": "ipython3",
   "version": "3.12.4"
  }
 },
 "nbformat": 4,
 "nbformat_minor": 2
}
